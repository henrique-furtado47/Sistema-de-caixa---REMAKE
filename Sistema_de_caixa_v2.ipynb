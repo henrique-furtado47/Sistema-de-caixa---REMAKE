{
  "nbformat": 4,
  "nbformat_minor": 0,
  "metadata": {
    "colab": {
      "provenance": [],
      "include_colab_link": true
    },
    "kernelspec": {
      "name": "python3",
      "display_name": "Python 3"
    },
    "language_info": {
      "name": "python"
    }
  },
  "cells": [
    {
      "cell_type": "markdown",
      "metadata": {
        "id": "view-in-github",
        "colab_type": "text"
      },
      "source": [
        "<a href=\"https://colab.research.google.com/github/henrique-furtado47/Sistema-de-caixa---REMAKE/blob/main/Sistema_de_caixa_v2.ipynb\" target=\"_parent\"><img src=\"https://colab.research.google.com/assets/colab-badge.svg\" alt=\"Open In Colab\"/></a>"
      ]
    },
    {
      "cell_type": "markdown",
      "source": [
        "# Sistema de Caixa feito em python\n",
        "## Desenvolvido por Henrique Furtado\n",
        "\n",
        "Remake do sistema de caixa com estoque e carrinho feito em python com Jupyter Notebook.\n",
        "\n",
        "Bibliotecas usadas: Pandas\n",
        "                    IPython.display"
      ],
      "metadata": {
        "id": "mzNTFaTfQR2m"
      }
    },
    {
      "cell_type": "code",
      "source": [
        "import pandas as pd\n",
        "from IPython.display import clear_output"
      ],
      "metadata": {
        "id": "ZRdClg0-3mig"
      },
      "execution_count": 1,
      "outputs": []
    },
    {
      "cell_type": "code",
      "source": [
        "\n",
        "\n",
        "\n",
        "\n",
        "#Criação dos dicionários\n",
        "estoque= {\"nomes\": [], \"quantidade\": [], \"preco\": [], \"codigo\": []}\n",
        "carrinho= {\"nomes\": [], \"quantidade\": [], \"preco\": [], \"codigo\": []}"
      ],
      "metadata": {
        "id": "uk_JOOJp87pZ"
      },
      "execution_count": 2,
      "outputs": []
    },
    {
      "cell_type": "code",
      "source": [
        "#Função visualizar\n",
        "def visualizar(x):\n",
        "  clear_output() # Limpa o terminal\n",
        "  df=pd.DataFrame(x) # Transforma o dicionário em um DataFrame Pandas\n",
        "  display(df) # Mostra o DataFrame"
      ],
      "metadata": {
        "id": "HVIOvbi37PxP"
      },
      "execution_count": 3,
      "outputs": []
    },
    {
      "cell_type": "code",
      "source": [
        "# Função de cadastrar produto no estoque\n",
        "def cadastrar_produto():\n",
        "  # Leitura dos dados\n",
        "    nome= input(\"Digite o nome do produto: \")\n",
        "    quantidade= int(input(\"Digite a quantidade do produto: \"))\n",
        "    preco= float(input(\"Digite o preço do produto: \"))\n",
        "    for i in range(len(estoque)): # Definição do código\n",
        "        codigo= len(estoque[\"codigo\"])+1\n",
        "    # Adição dos dados no estoque\n",
        "    estoque[\"nomes\"].append(nome)\n",
        "    estoque[\"quantidade\"].append(quantidade)\n",
        "    estoque[\"preco\"].append(preco)\n",
        "    estoque[\"codigo\"].append(codigo)\n",
        "    print(\"Produto cadastrado com sucesso!\")"
      ],
      "metadata": {
        "id": "r_3ip18f4Cvi"
      },
      "execution_count": 4,
      "outputs": []
    },
    {
      "cell_type": "code",
      "source": [
        "# Função de atualizar produto\n",
        "def atualizar_produto():\n",
        "  id= int(input(\"Digite o código do produto: \")) # Seleção do produto pelo ID\n",
        "  for i in range(len(estoque[\"codigo\"])):\n",
        "    if id not in estoque[\"codigo\"]: # Verificação se o produto está no estoque\n",
        "      print(\"Produto não encontrado\")\n",
        "    else:\n",
        "      # Opções de atualizar nome, quantidade ou preço\n",
        "      print(\"1 - Atualizar nome\")\n",
        "      print(\"2 - Atualizar quantidade\")\n",
        "      print(\"3 - Atualizar preço\")\n",
        "      print(\"0 - Sair\")\n",
        "      opcao= int(input(\"Digite uma opção: \"))\n",
        "      if opcao==1:\n",
        "        nome= input(\"Digite o novo nome do produto: \")\n",
        "        estoque[\"nomes\"][i]= nome # Atualiza o nome do produto\n",
        "        print(\"Produto atualizado com sucesso!\")\n",
        "      elif opcao==2:\n",
        "        quantidade= int(input(\"Digite a nova quantidade do produto: \"))\n",
        "        estoque[\"quantidade\"][i]= quantidade # Atualiza a quantidade do produto\n",
        "        print(\"Produto atualizado com sucesso!\")\n",
        "      elif opcao==3:\n",
        "        preco= float(input(\"Digite o novo preço do produto: \"))\n",
        "        estoque[\"preco\"][i]= preco # Atualiza o preço do produto\n",
        "        print(\"Produto atualizado com sucesso!\")\n",
        "      elif opcao==0:\n",
        "        break\n",
        "      else:\n",
        "        print(\"Opção inválida!\")"
      ],
      "metadata": {
        "id": "e5IvBxHyFzFB"
      },
      "execution_count": 5,
      "outputs": []
    },
    {
      "cell_type": "code",
      "source": [
        "# Função de remover produto\n",
        "def remover_produto():\n",
        "    id = int(input(\"Digite o código do produto: \")) # Seleção do produto pelo ID\n",
        "    for i in range(len(estoque[\"codigo\"])):\n",
        "      if id not in estoque[\"codigo\"]: # Verificação\n",
        "        print(\"Produto não encontrado\")\n",
        "      else:\n",
        "        # Remoção do produto\n",
        "        if id == estoque[\"codigo\"][i]:\n",
        "              estoque[\"nomes\"].pop(i)\n",
        "              estoque[\"quantidade\"].pop(i)\n",
        "              estoque[\"preco\"].pop(i)\n",
        "              estoque[\"codigo\"].pop(i)\n",
        "              print(\"Produto removido com sucesso!\")"
      ],
      "metadata": {
        "id": "YMr_PY4ECxBd"
      },
      "execution_count": 6,
      "outputs": []
    },
    {
      "cell_type": "code",
      "source": [
        "# Função de remover produto do carrinho\n",
        "def remover_produto_carrinho():\n",
        "    id = int(input(\"Digite o código do produto: \"))  # Seleção do produto por id\n",
        "    quantidade= int(input(\"Digite a quantidade que você deseja remover: \")) # Quantidade que será removida\n",
        "    if id not in carrinho[\"codigo\"]: # Verificando se o produto está no carrinho\n",
        "        print(\"Produto não encontrado\")\n",
        "        return\n",
        "    index = carrinho[\"codigo\"].index(id) # Adquirindo o índice do produto\n",
        "    if quantidade==int(carrinho[\"quantidade\"][index]): # Se a quantidade escolhida for igual a quantidade total, o produto será excluido\n",
        "        carrinho[\"nomes\"].pop(index)\n",
        "        carrinho[\"quantidade\"].pop(index)\n",
        "        carrinho[\"preco\"].pop(index)\n",
        "        carrinho[\"codigo\"].pop(index)\n",
        "        print(\"Produto removido com sucesso!\")\n",
        "    elif quantidade<int(carrinho[\"quantidade\"][index]): # Se a quantidade for menor que o total, o total será subtraído\n",
        "        carrinho[\"quantidade\"][index] = int(carrinho[\"quantidade\"][index]) - quantidade\n",
        "        print(\"Produto removido com sucesso!\")\n",
        "    else: # Se a quantidade for maior que o total, será invalidado\n",
        "        print(\"Quantidade insuficiente!\")"
      ],
      "metadata": {
        "id": "_YSdexPsNrl8"
      },
      "execution_count": 23,
      "outputs": []
    },
    {
      "cell_type": "code",
      "source": [
        "# Função de adicionar produtos ao carrinho\n",
        "def adicionar_carrinho():\n",
        "    codigo= int(input(\"Digite o código do produto: \")) # Seleção do produto pelo ID\n",
        "    if codigo in estoque[\"codigo\"]: # Verificação se o produto está no estoque\n",
        "        index=estoque[\"codigo\"].index(codigo) # Seleção do índice do produto\n",
        "        carrinho[\"quantidade\"].append(input(\"Digite a quantidade do produto: \")) # Seleção da quantidade do produto\n",
        "        if int(carrinho[\"quantidade\"][-1])>estoque[\"quantidade\"][index]: # Verificação se a quantidade selecionada é maior que a quantidade em estoque\n",
        "            print(\"Quantidade insuficiente!\") # Se for, a operação é cancelada\n",
        "            carrinho[\"quantidade\"].pop()\n",
        "            return\n",
        "        carrinho[\"nomes\"].append(estoque[\"nomes\"][index]) # Adição do produto ao carrinho\n",
        "        carrinho[\"preco\"].append(estoque[\"preco\"][index]) # Adição do preço do produto ao carrinho\n",
        "        carrinho[\"codigo\"].append(estoque[\"codigo\"][index]) # Adição do código do produto ao carrinho\n",
        "        print(\"Produto adicionado ao carrinho com sucesso!\")\n",
        "    else:\n",
        "        print(\"Produto não encontrado!\")"
      ],
      "metadata": {
        "id": "g37r7r_84H0-"
      },
      "execution_count": 8,
      "outputs": []
    },
    {
      "cell_type": "code",
      "source": [
        "# Função de limpar o carrinho\n",
        "def limpar_carrinho():\n",
        "    opcao=int(input(\"Você tem certeza que quer limpar o carrinho? Essa ação é irreversível\\n1-SIM\\n2-NÃO\\n\")) # Confirmação da escolha\n",
        "    if opcao==1:\n",
        "      # Limpando o carrinho\n",
        "      carrinho[\"nomes\"].clear()\n",
        "      carrinho[\"quantidade\"].clear()\n",
        "      carrinho[\"preco\"].clear()\n",
        "      carrinho[\"codigo\"].clear()\n",
        "      clear_output() # Limpa o terminal\n",
        "      print(\"Carrinho limpo com sucesso!\")\n",
        "    elif opcao==2: # Se a opção for 2, a operação é cancelada\n",
        "      print(\"Carrinho não limpo!\")\n",
        "    else:\n",
        "      print(\"Opção inválida!\")"
      ],
      "metadata": {
        "id": "uYdIVlzzMva9"
      },
      "execution_count": 9,
      "outputs": []
    },
    {
      "cell_type": "code",
      "source": [
        "# Função de finalizar compra\n",
        "def finalizar_compra():\n",
        "    total = 0 # Criação da varíavel do preço total da copra\n",
        "    for i in range(len(carrinho[\"nomes\"])):\n",
        "        preco = carrinho[\"preco\"][i] # Criação da variável preço usando o preço do carrinho\n",
        "        quantidade = carrinho[\"quantidade\"][i] # Criação da variável quantidade usando a quantidade do carrinho\n",
        "        if not isinstance(preco, (int, float)): # Verificação se o preço é um número\n",
        "            preco = float(preco) # Se não for, o preço é convertido para um número\n",
        "        if not isinstance(quantidade, (int, float)): # Verificação se a quantidade é um número\n",
        "            quantidade = int(quantidade) # Se não for, a quantidade é convertida para um número\n",
        "        total += preco * quantidade  # Cálculo do preço total da compra\n",
        "        estoque[\"quantidade\"][i]=estoque[\"quantidade\"][i] - int(carrinho[\"quantidade\"][i]) # Atualização da quantidade em estoque\n",
        "    # Limpeza do carrinho\n",
        "    carrinho[\"nomes\"].clear()\n",
        "    carrinho[\"quantidade\"].clear()\n",
        "    carrinho[\"preco\"].clear()\n",
        "    carrinho[\"codigo\"].clear()\n",
        "    clear_output() # Limpa terminal\n",
        "    print(\"Total da compra: \", total) # Exibe o total da compra\n",
        "    print(\"Compra finalizada com sucesso!\")"
      ],
      "metadata": {
        "id": "vncBrPFM4Kfb"
      },
      "execution_count": 10,
      "outputs": []
    },
    {
      "cell_type": "code",
      "source": [
        "# Menu principal\n",
        "def menu():\n",
        "    print(\"1 - Acessar estoque\")\n",
        "    print(\"2 - Acessar carrinho\")\n",
        "    print(\"0 - Sair\")"
      ],
      "metadata": {
        "id": "RG1vW0JE4Nk6"
      },
      "execution_count": 11,
      "outputs": []
    },
    {
      "cell_type": "code",
      "source": [
        "# Menu do estoque\n",
        "def acessar_estoque():\n",
        "    print(\"1 - Cadastrar produto\")\n",
        "    print(\"2 - Listar produtos\")\n",
        "    print(\"3 - Remover produto\")\n",
        "    print(\"4 - Atualizar produto\")\n",
        "    print(\"0 - Sair\")"
      ],
      "metadata": {
        "id": "gypDXLWb4RIq"
      },
      "execution_count": 12,
      "outputs": []
    },
    {
      "cell_type": "code",
      "source": [
        "# Menu do carrinho\n",
        "def acessar_carrinho():\n",
        "    print(\"1 - Adicionar produto ao carrinho\")\n",
        "    print(\"2 - Listar produtos do carrinho\")\n",
        "    print(\"3 - Limpar carrinho\")\n",
        "    print(\"4 - Remover produto do carrinho\")\n",
        "    print(\"5 - Finalizar compra\")\n",
        "    print(\"0 - Sair\")"
      ],
      "metadata": {
        "id": "F8vnGqI24T5i"
      },
      "execution_count": 13,
      "outputs": []
    },
    {
      "cell_type": "code",
      "source": [
        "# Seleção de opções\n",
        "while True:\n",
        "    menu() # Chama o menu principal\n",
        "    opcao= int(input(\"Digite uma opção: \")) # Leitura da opção\n",
        "    if opcao==1:\n",
        "        acessar_estoque() # Chama o menu de estoque\n",
        "        opcao= int(input(\"Digite uma opção: \")) # Leitura da opção\n",
        "        if opcao==1: # Se opção for 1 chama a função de cadastrar produto\n",
        "            cadastrar_produto()\n",
        "        elif opcao==2: # Se opção for 2 chama a função de visualizar estoque\n",
        "            visualizar(estoque)\n",
        "        elif opcao==3: # Se opção for 3 chama a função de remover produto\n",
        "            remover_produto()\n",
        "        elif opcao==4: # Se opção for 4 chama a função de atualizar produto\n",
        "            atualizar_produto()\n",
        "        elif opcao==0: # Se opção for 0, sai do menu\n",
        "            clear_output() # Limpeza do terminal\n",
        "            continue\n",
        "        else:\n",
        "            print(\"Opção inválida!\")\n",
        "    elif opcao==2: # Chama o menu do carrinho\n",
        "        acessar_carrinho()\n",
        "        opcao= int(input(\"Digite uma opção: \")) # Leitura da opção\n",
        "        if opcao==1: # Se opção for 1 chama a função de adicionar produto ao carrinho\n",
        "            adicionar_carrinho()\n",
        "        elif opcao==2: # Se opção for 2 chama a função de visualizar carrinho\n",
        "            visualizar(carrinho)\n",
        "        elif opcao==3: # Se opção for 3 chama a função de limpar carrinho\n",
        "            limpar_carrinho()\n",
        "        elif opcao==4: # Se opção for 4 chama a função de remover produto do carrinho\n",
        "            remover_produto_carrinho()\n",
        "        elif opcao==5: # Se opção for 5 chama a função de finalizar compra\n",
        "            finalizar_compra()\n",
        "        elif opcao==0: # Se opção for 0, sai do menu\n",
        "            clear_output() # Limpeza do terminal\n",
        "            continue\n",
        "        else:\n",
        "            print(\"Opção inválida!\")\n",
        "    elif opcao==0: # Se opção for 0, sai do programa\n",
        "        clear_output()  # Limpeza do terminal\n",
        "        print(\"FIM DO PROGRAMA \")\n",
        "        break\n",
        "    else:\n",
        "        print(\"Opção inválida!\")"
      ],
      "metadata": {
        "colab": {
          "base_uri": "https://localhost:8080/",
          "height": 534
        },
        "id": "Z7yqA72C4ays",
        "outputId": "d92d20da-a408-4b35-9925-c788b6fd1d3b"
      },
      "execution_count": 24,
      "outputs": [
        {
          "output_type": "display_data",
          "data": {
            "text/plain": [
              "   nomes  quantidade  preco  codigo\n",
              "0  Arroz           1    4.0       1"
            ],
            "text/html": [
              "\n",
              "  <div id=\"df-58f2b32a-c110-4e47-9607-69cf4cc96ca0\" class=\"colab-df-container\">\n",
              "    <div>\n",
              "<style scoped>\n",
              "    .dataframe tbody tr th:only-of-type {\n",
              "        vertical-align: middle;\n",
              "    }\n",
              "\n",
              "    .dataframe tbody tr th {\n",
              "        vertical-align: top;\n",
              "    }\n",
              "\n",
              "    .dataframe thead th {\n",
              "        text-align: right;\n",
              "    }\n",
              "</style>\n",
              "<table border=\"1\" class=\"dataframe\">\n",
              "  <thead>\n",
              "    <tr style=\"text-align: right;\">\n",
              "      <th></th>\n",
              "      <th>nomes</th>\n",
              "      <th>quantidade</th>\n",
              "      <th>preco</th>\n",
              "      <th>codigo</th>\n",
              "    </tr>\n",
              "  </thead>\n",
              "  <tbody>\n",
              "    <tr>\n",
              "      <th>0</th>\n",
              "      <td>Arroz</td>\n",
              "      <td>1</td>\n",
              "      <td>4.0</td>\n",
              "      <td>1</td>\n",
              "    </tr>\n",
              "  </tbody>\n",
              "</table>\n",
              "</div>\n",
              "    <div class=\"colab-df-buttons\">\n",
              "\n",
              "  <div class=\"colab-df-container\">\n",
              "    <button class=\"colab-df-convert\" onclick=\"convertToInteractive('df-58f2b32a-c110-4e47-9607-69cf4cc96ca0')\"\n",
              "            title=\"Convert this dataframe to an interactive table.\"\n",
              "            style=\"display:none;\">\n",
              "\n",
              "  <svg xmlns=\"http://www.w3.org/2000/svg\" height=\"24px\" viewBox=\"0 -960 960 960\">\n",
              "    <path d=\"M120-120v-720h720v720H120Zm60-500h600v-160H180v160Zm220 220h160v-160H400v160Zm0 220h160v-160H400v160ZM180-400h160v-160H180v160Zm440 0h160v-160H620v160ZM180-180h160v-160H180v160Zm440 0h160v-160H620v160Z\"/>\n",
              "  </svg>\n",
              "    </button>\n",
              "\n",
              "  <style>\n",
              "    .colab-df-container {\n",
              "      display:flex;\n",
              "      gap: 12px;\n",
              "    }\n",
              "\n",
              "    .colab-df-convert {\n",
              "      background-color: #E8F0FE;\n",
              "      border: none;\n",
              "      border-radius: 50%;\n",
              "      cursor: pointer;\n",
              "      display: none;\n",
              "      fill: #1967D2;\n",
              "      height: 32px;\n",
              "      padding: 0 0 0 0;\n",
              "      width: 32px;\n",
              "    }\n",
              "\n",
              "    .colab-df-convert:hover {\n",
              "      background-color: #E2EBFA;\n",
              "      box-shadow: 0px 1px 2px rgba(60, 64, 67, 0.3), 0px 1px 3px 1px rgba(60, 64, 67, 0.15);\n",
              "      fill: #174EA6;\n",
              "    }\n",
              "\n",
              "    .colab-df-buttons div {\n",
              "      margin-bottom: 4px;\n",
              "    }\n",
              "\n",
              "    [theme=dark] .colab-df-convert {\n",
              "      background-color: #3B4455;\n",
              "      fill: #D2E3FC;\n",
              "    }\n",
              "\n",
              "    [theme=dark] .colab-df-convert:hover {\n",
              "      background-color: #434B5C;\n",
              "      box-shadow: 0px 1px 3px 1px rgba(0, 0, 0, 0.15);\n",
              "      filter: drop-shadow(0px 1px 2px rgba(0, 0, 0, 0.3));\n",
              "      fill: #FFFFFF;\n",
              "    }\n",
              "  </style>\n",
              "\n",
              "    <script>\n",
              "      const buttonEl =\n",
              "        document.querySelector('#df-58f2b32a-c110-4e47-9607-69cf4cc96ca0 button.colab-df-convert');\n",
              "      buttonEl.style.display =\n",
              "        google.colab.kernel.accessAllowed ? 'block' : 'none';\n",
              "\n",
              "      async function convertToInteractive(key) {\n",
              "        const element = document.querySelector('#df-58f2b32a-c110-4e47-9607-69cf4cc96ca0');\n",
              "        const dataTable =\n",
              "          await google.colab.kernel.invokeFunction('convertToInteractive',\n",
              "                                                    [key], {});\n",
              "        if (!dataTable) return;\n",
              "\n",
              "        const docLinkHtml = 'Like what you see? Visit the ' +\n",
              "          '<a target=\"_blank\" href=https://colab.research.google.com/notebooks/data_table.ipynb>data table notebook</a>'\n",
              "          + ' to learn more about interactive tables.';\n",
              "        element.innerHTML = '';\n",
              "        dataTable['output_type'] = 'display_data';\n",
              "        await google.colab.output.renderOutput(dataTable, element);\n",
              "        const docLink = document.createElement('div');\n",
              "        docLink.innerHTML = docLinkHtml;\n",
              "        element.appendChild(docLink);\n",
              "      }\n",
              "    </script>\n",
              "  </div>\n",
              "\n",
              "\n",
              "    </div>\n",
              "  </div>\n"
            ],
            "application/vnd.google.colaboratory.intrinsic+json": {
              "type": "dataframe",
              "summary": "{\n  \"name\": \"        print(\\\"Op\\u00e7\\u00e3o inv\\u00e1lida!\\\")\",\n  \"rows\": 1,\n  \"fields\": [\n    {\n      \"column\": \"nomes\",\n      \"properties\": {\n        \"dtype\": \"string\",\n        \"num_unique_values\": 1,\n        \"samples\": [\n          \"Arroz\"\n        ],\n        \"semantic_type\": \"\",\n        \"description\": \"\"\n      }\n    },\n    {\n      \"column\": \"quantidade\",\n      \"properties\": {\n        \"dtype\": \"number\",\n        \"std\": null,\n        \"min\": 1,\n        \"max\": 1,\n        \"num_unique_values\": 1,\n        \"samples\": [\n          1\n        ],\n        \"semantic_type\": \"\",\n        \"description\": \"\"\n      }\n    },\n    {\n      \"column\": \"preco\",\n      \"properties\": {\n        \"dtype\": \"number\",\n        \"std\": null,\n        \"min\": 4.0,\n        \"max\": 4.0,\n        \"num_unique_values\": 1,\n        \"samples\": [\n          4.0\n        ],\n        \"semantic_type\": \"\",\n        \"description\": \"\"\n      }\n    },\n    {\n      \"column\": \"codigo\",\n      \"properties\": {\n        \"dtype\": \"number\",\n        \"std\": null,\n        \"min\": 1,\n        \"max\": 1,\n        \"num_unique_values\": 1,\n        \"samples\": [\n          1\n        ],\n        \"semantic_type\": \"\",\n        \"description\": \"\"\n      }\n    }\n  ]\n}"
            }
          },
          "metadata": {}
        },
        {
          "output_type": "stream",
          "name": "stdout",
          "text": [
            "1 - Acessar estoque\n",
            "2 - Acessar carrinho\n",
            "0 - Sair\n"
          ]
        },
        {
          "output_type": "error",
          "ename": "KeyboardInterrupt",
          "evalue": "Interrupted by user",
          "traceback": [
            "\u001b[0;31m---------------------------------------------------------------------------\u001b[0m",
            "\u001b[0;31mKeyboardInterrupt\u001b[0m                         Traceback (most recent call last)",
            "\u001b[0;32m<ipython-input-24-c71c3985277f>\u001b[0m in \u001b[0;36m<cell line: 2>\u001b[0;34m()\u001b[0m\n\u001b[1;32m      2\u001b[0m \u001b[0;32mwhile\u001b[0m \u001b[0;32mTrue\u001b[0m\u001b[0;34m:\u001b[0m\u001b[0;34m\u001b[0m\u001b[0;34m\u001b[0m\u001b[0m\n\u001b[1;32m      3\u001b[0m     \u001b[0mmenu\u001b[0m\u001b[0;34m(\u001b[0m\u001b[0;34m)\u001b[0m \u001b[0;31m# Chama o menu principal\u001b[0m\u001b[0;34m\u001b[0m\u001b[0;34m\u001b[0m\u001b[0m\n\u001b[0;32m----> 4\u001b[0;31m     \u001b[0mopcao\u001b[0m\u001b[0;34m=\u001b[0m \u001b[0mint\u001b[0m\u001b[0;34m(\u001b[0m\u001b[0minput\u001b[0m\u001b[0;34m(\u001b[0m\u001b[0;34m\"Digite uma opção: \"\u001b[0m\u001b[0;34m)\u001b[0m\u001b[0;34m)\u001b[0m \u001b[0;31m# Leitura da opção\u001b[0m\u001b[0;34m\u001b[0m\u001b[0;34m\u001b[0m\u001b[0m\n\u001b[0m\u001b[1;32m      5\u001b[0m     \u001b[0;32mif\u001b[0m \u001b[0mopcao\u001b[0m\u001b[0;34m==\u001b[0m\u001b[0;36m1\u001b[0m\u001b[0;34m:\u001b[0m\u001b[0;34m\u001b[0m\u001b[0;34m\u001b[0m\u001b[0m\n\u001b[1;32m      6\u001b[0m         \u001b[0macessar_estoque\u001b[0m\u001b[0;34m(\u001b[0m\u001b[0;34m)\u001b[0m \u001b[0;31m# Chama o menu de estoque\u001b[0m\u001b[0;34m\u001b[0m\u001b[0;34m\u001b[0m\u001b[0m\n",
            "\u001b[0;32m/usr/local/lib/python3.10/dist-packages/ipykernel/kernelbase.py\u001b[0m in \u001b[0;36mraw_input\u001b[0;34m(self, prompt)\u001b[0m\n\u001b[1;32m    849\u001b[0m                 \u001b[0;34m\"raw_input was called, but this frontend does not support input requests.\"\u001b[0m\u001b[0;34m\u001b[0m\u001b[0;34m\u001b[0m\u001b[0m\n\u001b[1;32m    850\u001b[0m             )\n\u001b[0;32m--> 851\u001b[0;31m         return self._input_request(str(prompt),\n\u001b[0m\u001b[1;32m    852\u001b[0m             \u001b[0mself\u001b[0m\u001b[0;34m.\u001b[0m\u001b[0m_parent_ident\u001b[0m\u001b[0;34m,\u001b[0m\u001b[0;34m\u001b[0m\u001b[0;34m\u001b[0m\u001b[0m\n\u001b[1;32m    853\u001b[0m             \u001b[0mself\u001b[0m\u001b[0;34m.\u001b[0m\u001b[0m_parent_header\u001b[0m\u001b[0;34m,\u001b[0m\u001b[0;34m\u001b[0m\u001b[0;34m\u001b[0m\u001b[0m\n",
            "\u001b[0;32m/usr/local/lib/python3.10/dist-packages/ipykernel/kernelbase.py\u001b[0m in \u001b[0;36m_input_request\u001b[0;34m(self, prompt, ident, parent, password)\u001b[0m\n\u001b[1;32m    893\u001b[0m             \u001b[0;32mexcept\u001b[0m \u001b[0mKeyboardInterrupt\u001b[0m\u001b[0;34m:\u001b[0m\u001b[0;34m\u001b[0m\u001b[0;34m\u001b[0m\u001b[0m\n\u001b[1;32m    894\u001b[0m                 \u001b[0;31m# re-raise KeyboardInterrupt, to truncate traceback\u001b[0m\u001b[0;34m\u001b[0m\u001b[0;34m\u001b[0m\u001b[0m\n\u001b[0;32m--> 895\u001b[0;31m                 \u001b[0;32mraise\u001b[0m \u001b[0mKeyboardInterrupt\u001b[0m\u001b[0;34m(\u001b[0m\u001b[0;34m\"Interrupted by user\"\u001b[0m\u001b[0;34m)\u001b[0m \u001b[0;32mfrom\u001b[0m \u001b[0;32mNone\u001b[0m\u001b[0;34m\u001b[0m\u001b[0;34m\u001b[0m\u001b[0m\n\u001b[0m\u001b[1;32m    896\u001b[0m             \u001b[0;32mexcept\u001b[0m \u001b[0mException\u001b[0m \u001b[0;32mas\u001b[0m \u001b[0me\u001b[0m\u001b[0;34m:\u001b[0m\u001b[0;34m\u001b[0m\u001b[0;34m\u001b[0m\u001b[0m\n\u001b[1;32m    897\u001b[0m                 \u001b[0mself\u001b[0m\u001b[0;34m.\u001b[0m\u001b[0mlog\u001b[0m\u001b[0;34m.\u001b[0m\u001b[0mwarning\u001b[0m\u001b[0;34m(\u001b[0m\u001b[0;34m\"Invalid Message:\"\u001b[0m\u001b[0;34m,\u001b[0m \u001b[0mexc_info\u001b[0m\u001b[0;34m=\u001b[0m\u001b[0;32mTrue\u001b[0m\u001b[0;34m)\u001b[0m\u001b[0;34m\u001b[0m\u001b[0;34m\u001b[0m\u001b[0m\n",
            "\u001b[0;31mKeyboardInterrupt\u001b[0m: Interrupted by user"
          ]
        }
      ]
    }
  ]
}